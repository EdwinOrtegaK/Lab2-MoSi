{
 "cells": [
  {
   "cell_type": "markdown",
   "id": "266dadfd",
   "metadata": {},
   "source": [
    "# Laboratorio 2\n",
    "\n",
    "Modelación y Simulación\n",
    "\n",
    "Edwin Ortega 22305 - Esteban Zambrano 22119 - Juan Pablo Solis 22102\n",
    "\n",
    "Ejercicios en donde se necesita usar Python"
   ]
  }
 ],
 "metadata": {
  "language_info": {
   "name": "python"
  }
 },
 "nbformat": 4,
 "nbformat_minor": 5
}
