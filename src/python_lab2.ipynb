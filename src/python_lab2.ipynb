{
 "cells": [
  {
   "cell_type": "markdown",
   "id": "266dadfd",
   "metadata": {},
   "source": [
    "# Laboratorio 2\n",
    "\n",
    "Modelación y Simulación\n",
    "\n",
    "Edwin Ortega 22305 - Esteban Zambrano 22119 - Juan Pablo Solis 22102\n",
    "\n",
    "Ejercicios en donde se necesita usar Python"
   ]
  },
  {
   "cell_type": "markdown",
   "id": "f153b50f",
   "metadata": {},
   "source": [
    "### **Ejercicio 4**"
   ]
  },
  {
   "cell_type": "code",
   "execution_count": 3,
   "id": "6af764be",
   "metadata": {},
   "outputs": [],
   "source": [
    "import numpy as np\n",
    "\n",
    "def biseccion(f, a, b, tol=1e-7, max_iter=100):\n",
    "    if f(a) * f(b) > 0:\n",
    "        raise ValueError(\"La función no cambia de signo en el intervalo dado.\")\n",
    "\n",
    "    aprox = []\n",
    "    for _ in range(max_iter):\n",
    "        c = (a + b) / 2\n",
    "        aprox.append(c)\n",
    "\n",
    "        if abs(f(c)) < tol or abs(b - a) / 2 < tol:\n",
    "            return aprox, c\n",
    "\n",
    "        if f(a) * f(c) < 0:\n",
    "            b = c\n",
    "        else:\n",
    "            a = c\n",
    "    return aprox, (a + b) / 2"
   ]
  },
  {
   "cell_type": "code",
   "execution_count": 4,
   "id": "c971c202",
   "metadata": {},
   "outputs": [],
   "source": [
    "def secante(f, x0, x1, tol=1e-7, max_iter=100):\n",
    "    aprox = [x0, x1]\n",
    "    for _ in range(max_iter):\n",
    "        f0, f1 = f(x0), f(x1)\n",
    "        if f1 - f0 == 0:\n",
    "            raise ZeroDivisionError(\"División por cero en el método de la secante.\")\n",
    "        \n",
    "        x2 = x1 - f1 * (x1 - x0) / (f1 - f0)\n",
    "        aprox.append(x2)\n",
    "        if abs(x2 - x1) < tol:\n",
    "            return aprox, x2\n",
    "        x0, x1 = x1, x2\n",
    "    return aprox, x2"
   ]
  },
  {
   "cell_type": "code",
   "execution_count": 5,
   "id": "96223c8f",
   "metadata": {},
   "outputs": [],
   "source": [
    "def newton_raphson(f, df, x0, tol=1e-7, max_iter=100):\n",
    "    aprox = [x0]\n",
    "    for _ in range(max_iter):\n",
    "        f_x = f(x0)\n",
    "        df_x = df(x0)\n",
    "        if df_x == 0:\n",
    "            raise ZeroDivisionError(\"La derivada es cero; no se puede continuar.\")\n",
    "\n",
    "        x1 = x0 - f_x / df_x\n",
    "        aprox.append(x1)\n",
    "        if abs(x1 - x0) < tol:\n",
    "            return aprox, x1\n",
    "        x0 = x1\n",
    "    return aprox, x0"
   ]
  },
  {
   "cell_type": "code",
   "execution_count": 4,
   "id": "f78d6fc4",
   "metadata": {},
   "outputs": [
    {
     "name": "stdout",
     "output_type": "stream",
     "text": [
      "Bisección: 1.4142135381698608\n",
      "Secante: 1.4142135623730954\n",
      "Newton-Raphson: 1.4142135623730951\n"
     ]
    }
   ],
   "source": [
    "# Función y derivada\n",
    "f = lambda x: x**2 - 2\n",
    "df = lambda x: 2*x\n",
    "\n",
    "# Bisección\n",
    "aprox_bis, raiz_bis = biseccion(f, 1, 2)\n",
    "print(\"Bisección:\", raiz_bis)\n",
    "\n",
    "# Secante\n",
    "aprox_sec, raiz_sec = secante(f, 1, 2)\n",
    "print(\"Secante:\", raiz_sec)\n",
    "\n",
    "# Newton-Raphson\n",
    "aprox_newt, raiz_newt = newton_raphson(f, df, 1)\n",
    "print(\"Newton-Raphson:\", raiz_newt)"
   ]
  },
  {
   "cell_type": "markdown",
   "id": "d0df3efa",
   "metadata": {},
   "source": [
    "### **Ejercicio 5**"
   ]
  },
  {
   "cell_type": "code",
   "execution_count": 6,
   "id": "09ddd1c4",
   "metadata": {},
   "outputs": [],
   "source": [
    "import numpy as np\n",
    "\n",
    "# Definir la función y su derivada\n",
    "def g(x):\n",
    "    return x**2 + 1/(x - 7)\n",
    "\n",
    "def dg(x):\n",
    "    return 2*x - 1/(x - 7)**2"
   ]
  },
  {
   "cell_type": "code",
   "execution_count": 13,
   "id": "e70d4da2",
   "metadata": {},
   "outputs": [
    {
     "name": "stdout",
     "output_type": "stream",
     "text": [
      "g(-0.4) = 0.024864864864864916\n",
      "g(-0.3) = -0.04698630136986301\n"
     ]
    }
   ],
   "source": [
    "# Validamos el cambio de signo\n",
    "print(\"g(-0.4) =\", g(-0.4))  # negativo\n",
    "print(\"g(-0.3) =\", g(-0.3))  # positivo\n"
   ]
  },
  {
   "cell_type": "code",
   "execution_count": 14,
   "id": "01c1d345",
   "metadata": {},
   "outputs": [
    {
     "name": "stdout",
     "output_type": "stream",
     "text": [
      "Raíz (bisección): -0.3683948516845704 | Iteraciones: 18\n",
      "Raíz (secante): -0.36839485373297565 | Iteraciones: 7\n",
      "Raíz (Newton-Raphson): -0.3683948537329749 | Iteraciones: 5\n"
     ]
    }
   ],
   "source": [
    "# Método de Bisección\n",
    "aprox_bis, raiz_bis = biseccion(g, -0.4, -0.3)\n",
    "print(\"Raíz (bisección):\", raiz_bis, \"| Iteraciones:\", len(aprox_bis))\n",
    "\n",
    "# Método de la Secante (puede usar los mismos puntos)\n",
    "aprox_sec, raiz_sec = secante(g, -0.4, -0.3)\n",
    "print(\"Raíz (secante):\", raiz_sec, \"| Iteraciones:\", len(aprox_sec))\n",
    "\n",
    "# Método de Newton-Raphson\n",
    "aprox_newt, raiz_newt = newton_raphson(g, dg, -0.35)\n",
    "print(\"Raíz (Newton-Raphson):\", raiz_newt, \"| Iteraciones:\", len(aprox_newt))"
   ]
  },
  {
   "cell_type": "markdown",
   "id": "1729d131",
   "metadata": {},
   "source": [
    "### **Ejercicio 6**"
   ]
  },
  {
   "cell_type": "code",
   "execution_count": 2,
   "id": "85bd9aed",
   "metadata": {},
   "outputs": [
    {
     "name": "stdout",
     "output_type": "stream",
     "text": [
      "Ceros del polinomio:\n",
      "Raíz real: 1.5937\n",
      "Raíz compleja: -1.1223 + 0.9262j\n",
      "Raíz compleja: -1.1223 + -0.9262j\n",
      "Raíz real: -1.3037\n",
      "Raíz real: 0.4546\n"
     ]
    }
   ],
   "source": [
    "import numpy as np\n",
    "\n",
    "# Coeficientes del polinomio en orden descendente\n",
    "coef = [2, 3, -3, -10, -4, 4]\n",
    "\n",
    "raices = np.roots(coef)\n",
    "\n",
    "print(\"Ceros del polinomio:\")\n",
    "for r in raices:\n",
    "    if np.isreal(r):\n",
    "        print(f\"Raíz real: {r.real:.4f}\")\n",
    "    else:\n",
    "        print(f\"Raíz compleja: {r.real:.4f} + {r.imag:.4f}j\")\n",
    "\n"
   ]
  },
  {
   "cell_type": "markdown",
   "id": "4c1f148b",
   "metadata": {},
   "source": [
    "### **Ejercicio 8**"
   ]
  },
  {
   "cell_type": "code",
   "execution_count": 4,
   "id": "7c59818c",
   "metadata": {},
   "outputs": [
    {
     "name": "stdout",
     "output_type": "stream",
     "text": [
      "=== Solución aproximada con 7 cifras decimales ===\n",
      "x = 0.5000000\n",
      "y = 0.0000000\n",
      "z = -0.5235988\n",
      "\n"
     ]
    }
   ],
   "source": [
    "import numpy as np\n",
    "\n",
    "def F(vec):\n",
    "    x, y, z = vec\n",
    "    return np.array([\n",
    "        3*x - np.cos(y*z) - 0.5,\n",
    "        x**2 - 81*(y + 0.1)**2 + np.sin(z) + 1.06,\n",
    "        np.exp(-x*y) + 20*z + (10*np.pi - 3)/3\n",
    "    ])\n",
    "\n",
    "def DF(vec):\n",
    "    x, y, z = vec\n",
    "    return np.array([\n",
    "        [3,          np.sin(y*z)*z,         np.sin(y*z)*y],\n",
    "        [2*x,        -162*(y + 0.1),        np.cos(z)],\n",
    "        [-y*np.exp(-x*y), -x*np.exp(-x*y), 20]\n",
    "    ])\n",
    "\n",
    "def newton_multidimensional(f, df, x0, max_iter=50, tol=1e-7):\n",
    "    x = x0\n",
    "    approximations = [x0.copy()]\n",
    "    \n",
    "    for i in range(max_iter):\n",
    "        J = df(x)\n",
    "        Fx = f(x)\n",
    "        try:\n",
    "            delta = np.linalg.solve(J, -Fx)\n",
    "        except np.linalg.LinAlgError:\n",
    "            print(\"Jacobian is singular\")\n",
    "            return approximations, x\n",
    "        \n",
    "        x = x + delta\n",
    "        approximations.append(x.copy())\n",
    "        \n",
    "        if np.linalg.norm(delta, ord=2) < tol:\n",
    "            break\n",
    "\n",
    "    return approximations, x\n",
    "\n",
    "\n",
    "x0 = np.array([0.1, 0.1, -0.1])  \n",
    "aproxs, sol = newton_multidimensional(F, DF, x0)\n",
    "\n",
    "print(\"=== Solución aproximada con 7 cifras decimales ===\")\n",
    "print(f\"x = {sol[0]:.7f}\")\n",
    "print(f\"y = {sol[1]:.7f}\")\n",
    "print(f\"z = {sol[2]:.7f}\\n\")\n"
   ]
  }
 ],
 "metadata": {
  "kernelspec": {
   "display_name": "Python 3",
   "language": "python",
   "name": "python3"
  },
  "language_info": {
   "codemirror_mode": {
    "name": "ipython",
    "version": 3
   },
   "file_extension": ".py",
   "mimetype": "text/x-python",
   "name": "python",
   "nbconvert_exporter": "python",
   "pygments_lexer": "ipython3",
   "version": "3.12.5"
  }
 },
 "nbformat": 4,
 "nbformat_minor": 5
}
