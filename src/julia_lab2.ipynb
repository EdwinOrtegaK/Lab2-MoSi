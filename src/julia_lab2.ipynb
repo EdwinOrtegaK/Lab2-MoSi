{
 "cells": [
  {
   "cell_type": "markdown",
   "id": "022965bc",
   "metadata": {},
   "source": [
    "# Laboratorio 2\n",
    "\n",
    "Modelación y Simulación\n",
    "\n",
    "Edwin Ortega 22305 - Esteban Zambrano 22119 - Juan Pablo Solis 22102\n",
    "\n",
    "Ejercicios en donde se necesita usar Julia"
   ]
  },
  {
   "cell_type": "code",
   "execution_count": 1,
   "id": "fe787658",
   "metadata": {},
   "outputs": [],
   "source": [
    "using JuMP\n",
    "using HiGHS\n",
    "using Ipopt\n",
    "using Optimization"
   ]
  },
  {
   "cell_type": "markdown",
   "id": "744be539",
   "metadata": {},
   "source": [
    "### Ejercicio 1: Problema de transporte de gasolina"
   ]
  },
  {
   "cell_type": "markdown",
   "id": "b5e6fd8e",
   "metadata": {},
   "source": [
    "#### Inciso a"
   ]
  },
  {
   "cell_type": "code",
   "execution_count": 4,
   "id": "c4fd258d",
   "metadata": {},
   "outputs": [
    {
     "name": "stdout",
     "output_type": "stream",
     "text": [
      "Running HiGHS 1.11.0 (git hash: 364c83a51e): Copyright (c) 2025 HiGHS under MIT licence terms\n",
      "LP   has 6 rows; 9 cols; 18 nonzeros\n",
      "Coefficient ranges:\n",
      "  Matrix [1e+00, 1e+00]\n",
      "  Cost   [8e+03, 3e+04]\n",
      "  Bound  [0e+00, 0e+00]\n",
      "  RHS    [4e+00, 8e+00]\n",
      "Presolving model\n",
      "6 rows, 8 cols, 16 nonzeros  0s\n",
      "Dependent equations search running on 2 equations with time limit of 1000.00s\n",
      "Dependent equations search removed 0 rows and 0 nonzeros in 0.00s (limit = 1000.00s)\n",
      "5 rows, 7 cols, 14 nonzeros  0s\n",
      "Presolve : Reductions: rows 5(-1); columns 7(-2); elements 14(-4)\n",
      "Solving the presolved LP\n",
      "Using EKK dual simplex solver - serial\n",
      "  Iteration        Objective     Infeasibilities num(sum)\n",
      "          0     0.0000000000e+00 Ph1: 0(0) 0s\n",
      "          4     2.4300000000e+05 Pr: 0(0) 0s\n",
      "Solving the original LP from the solution after postsolve\n",
      "Model status        : Optimal\n",
      "Simplex   iterations: 4\n",
      "Objective value     :  2.4300000000e+05\n",
      "P-D objective error :  0.0000000000e+00\n",
      "HiGHS run time      :          0.02\n",
      "Costo mínimo diario: $243000.0\n",
      "R1 → A1 : 4.0 Mgal\n",
      "R1 → A2 : 2.0 Mgal\n",
      "R2 → A2 : 5.0 Mgal\n",
      "R3 → A2 : 1.0 Mgal\n",
      "R3 → A3 : 7.0 Mgal\n"
     ]
    }
   ],
   "source": [
    "# Conjuntos\n",
    "ref = [\"R1\",\"R2\",\"R3\"]\n",
    "area = [\"A1\",\"A2\",\"A3\"]\n",
    "\n",
    "# Oferta (millones de galones/día)\n",
    "s = Dict(\"R1\"=>6, \"R2\"=>5, \"R3\"=>8)\n",
    "\n",
    "# Demanda (millones de galones/día)\n",
    "d = Dict(\"A1\"=>4, \"A2\"=>8, \"A3\"=>7)\n",
    "\n",
    "# Distancias (km) – rutas existentes\n",
    "dist = Dict(\n",
    "    (\"R1\",\"A1\") => 120, (\"R1\",\"A2\") => 180,\n",
    "    (\"R2\",\"A1\") => 300, (\"R2\",\"A2\") => 100, (\"R2\",\"A3\") => 80,\n",
    "    (\"R3\",\"A1\") => 200, (\"R3\",\"A2\") => 250, (\"R3\",\"A3\") => 120,\n",
    ")\n",
    "\n",
    "# Costo por millón de galones\n",
    "cost(i,j) = 100 * dist[(i,j)]   # 0.10 USD / 1000 gal × 1000\n",
    "\n",
    "# Modelo\n",
    "model = Model(HiGHS.Optimizer)\n",
    "@variable(model, x[ref, area] >= 0)\n",
    "\n",
    "# Eliminar rutas inexistentes\n",
    "for i in ref, j in area\n",
    "    if !haskey(dist, (i,j))\n",
    "        fix(x[i,j], 0; force = true)\n",
    "    end\n",
    "end\n",
    "\n",
    "# Función objetivo\n",
    "@objective(model, Min, sum(cost(i,j)*x[i,j] for (i,j) in keys(dist)))\n",
    "\n",
    "# Restricciones\n",
    "@constraint(model, [i in ref], sum(x[i,j] for j in area) <= s[i])  # oferta\n",
    "@constraint(model, [j in area], sum(x[i,j] for i in ref) == d[j])  # demanda\n",
    "\n",
    "optimize!(model)\n",
    "\n",
    "println(\"Costo mínimo diario: \\$\", objective_value(model))\n",
    "for i in ref, j in area\n",
    "    if value(x[i,j]) > 1e-6\n",
    "        println(\"$i → $j : $(round(value(x[i,j]), digits=3)) Mgal\")\n",
    "    end\n",
    "end\n"
   ]
  },
  {
   "cell_type": "markdown",
   "id": "9ba57336",
   "metadata": {},
   "source": [
    "#### Inciso b"
   ]
  },
  {
   "cell_type": "code",
   "execution_count": 10,
   "id": "e63e74cd",
   "metadata": {},
   "outputs": [
    {
     "name": "stdout",
     "output_type": "stream",
     "text": [
      "┌────────┬─────────┬───────┬──────────┬──────────────┐\n",
      "│\u001b[1m Origen \u001b[0m│\u001b[1m Destino \u001b[0m│\u001b[1m  Mgal \u001b[0m│\u001b[1m USD_Mgal \u001b[0m│\u001b[1m Subtotal_USD \u001b[0m│\n",
      "│\u001b[90m String \u001b[0m│\u001b[90m  String \u001b[0m│\u001b[90m Int64 \u001b[0m│\u001b[90m    Int64 \u001b[0m│\u001b[90m        Int64 \u001b[0m│\n",
      "├────────┼─────────┼───────┼──────────┼──────────────┤\n",
      "│     R1 │      A1 │     4 │    12000 │        48000 │\n",
      "│     R1 │      A2 │     2 │    18000 │        36000 │\n",
      "│     R2 │      A2 │     5 │    10000 │        50000 │\n",
      "│     R3 │      A2 │     1 │    25000 │        25000 │\n",
      "│     R3 │      A3 │     7 │    12000 │        84000 │\n",
      "└────────┴─────────┴───────┴──────────┴──────────────┘\n",
      "\n",
      "Costo total: $243000.0\n"
     ]
    }
   ],
   "source": [
    "routes = [\n",
    "    (\"R1\",\"A1\", 4, cost(\"R1\",\"A1\")),\n",
    "    (\"R1\",\"A2\", 2, cost(\"R1\",\"A2\")),\n",
    "    (\"R2\",\"A2\", 5, cost(\"R2\",\"A2\")),\n",
    "    (\"R3\",\"A2\", 1, cost(\"R3\",\"A2\")),\n",
    "    (\"R3\",\"A3\", 7, cost(\"R3\",\"A3\")),\n",
    "]\n",
    "\n",
    "rows = [\n",
    "    (Origen=o, Destino=d, Mgal=vol,\n",
    "     USD_Mgal=unit, Subtotal_USD=vol*unit)\n",
    "    for (o,d,vol,unit) in routes\n",
    "]\n",
    "\n",
    "pretty_table(rows; formatters = ft_printf(\"%.0f\", 3:5))\n",
    "println(\"\\nCosto total: \\$\", objective_value(model))"
   ]
  },
  {
   "cell_type": "markdown",
   "id": "f4fa1406",
   "metadata": {},
   "source": [
    "#### Inciso c"
   ]
  },
  {
   "cell_type": "code",
   "execution_count": 11,
   "id": "4ed2e153",
   "metadata": {},
   "outputs": [
    {
     "name": "stdout",
     "output_type": "stream",
     "text": [
      "Running HiGHS 1.11.0 (git hash: 364c83a51e): Copyright (c) 2025 HiGHS under MIT licence terms\n",
      "LP   has 6 rows; 12 cols; 21 nonzeros\n",
      "Coefficient ranges:\n",
      "  Matrix [1e+00, 1e+00]\n",
      "  Cost   [8e+03, 3e+04]\n",
      "  Bound  [0e+00, 0e+00]\n",
      "  RHS    [4e+00, 8e+00]\n",
      "Presolving model\n",
      "6 rows, 11 cols, 19 nonzeros  0s\n",
      "Dependent equations search running on 5 equations with time limit of 1000.00s\n",
      "Dependent equations search removed 0 rows and 0 nonzeros in 0.00s (limit = 1000.00s)\n",
      "5 rows, 10 cols, 17 nonzeros  0s\n",
      "Presolve : Reductions: rows 5(-1); columns 10(-2); elements 17(-4)\n",
      "Solving the presolved LP\n",
      "Using EKK dual simplex solver - serial\n",
      "  Iteration        Objective     Infeasibilities num(sum)\n",
      "          0     0.0000000000e+00 Ph1: 0(0) 0s\n",
      "          5     2.0700000000e+05 Pr: 0(0) 0s\n",
      "Solving the original LP from the solution after postsolve\n",
      "Model status        : Optimal\n",
      "Simplex   iterations: 5\n",
      "Objective value     :  2.0700000000e+05\n",
      "P-D objective error :  0.0000000000e+00\n",
      "HiGHS run time      :          0.01\n",
      "Estado: OPTIMAL\n",
      "Costo mínimo diario: $207000.0\n"
     ]
    }
   ],
   "source": [
    "# --- Datos ---\n",
    "ref = [\"R1\",\"R2\",\"R3\"]\n",
    "area = [\"A1\",\"A2\",\"A3\"]\n",
    "\n",
    "s  = Dict(\"R1\"=>6,\"R2\"=>5,\"R3\"=>8)               # oferta\n",
    "d2 = Dict(\"A1\"=>4,\"A2\"=>8,\"A3\"=>4)               # nueva demanda\n",
    "\n",
    "dist = Dict(\n",
    "    (\"R1\",\"A1\") => 120, (\"R1\",\"A2\") => 180,\n",
    "    (\"R2\",\"A1\") => 300, (\"R2\",\"A2\") => 100, (\"R2\",\"A3\") => 80,\n",
    "    (\"R3\",\"A1\") => 200, (\"R3\",\"A2\") => 250, (\"R3\",\"A3\") => 120,\n",
    ")\n",
    "\n",
    "cost(i,j) = 100 * dist[(i,j)]                    # USD / Mgal\n",
    "\n",
    "overflow_cost = Dict(\"R1\"=>15_000,\n",
    "                     \"R2\"=>22_000,\n",
    "                     \"R3\"=>0)                    # USD / Mgal\n",
    "\n",
    "# --- Modelo ---\n",
    "model_c = Model(HiGHS.Optimizer)\n",
    "\n",
    "@variable(model_c, x[ref, area] >= 0)            # envíos por oleoducto\n",
    "@variable(model_c, y[ref]       >= 0)            # excedente\n",
    "\n",
    "# Desactivar rutas inexistentes\n",
    "for i in ref, j in area\n",
    "    if !haskey(dist, (i,j))\n",
    "        fix(x[i,j], 0; force = true)\n",
    "    end\n",
    "end\n",
    "\n",
    "@objective(model_c, Min,\n",
    "    sum(cost(i,j) * x[i,j] for i in ref, j in area if haskey(dist,(i,j))) +\n",
    "    sum(overflow_cost[i] * y[i] for i in ref)\n",
    ")\n",
    "\n",
    "@constraint(model_c, [i in ref], sum(x[i,j] for j in area) + y[i] == s[i])  # oferta exacta\n",
    "@constraint(model_c, [j in area], sum(x[i,j] for i in ref) == d2[j])        # demanda exacta\n",
    "\n",
    "optimize!(model_c)\n",
    "\n",
    "println(\"Estado: \", termination_status(model_c))\n",
    "println(\"Costo mínimo diario: \\$\", objective_value(model_c))"
   ]
  },
  {
   "cell_type": "code",
   "execution_count": 12,
   "id": "a806bff1",
   "metadata": {},
   "outputs": [
    {
     "name": "stdout",
     "output_type": "stream",
     "text": [
      "┌───────────────────────────────────────────────────────────────────────────────────────┐\n",
      "│\u001b[1m                                                                                Col. 1 \u001b[0m│\n",
      "├───────────────────────────────────────────────────────────────────────────────────────┤\n",
      "│ (Origen = \"R1\", Destino = \"A1\", Mgal = 4.0, USD_Mgal = 12000, Subtotal_USD = 48000.0) │\n",
      "│ (Origen = \"R1\", Destino = \"A2\", Mgal = 2.0, USD_Mgal = 18000, Subtotal_USD = 36000.0) │\n",
      "│ (Origen = \"R2\", Destino = \"A2\", Mgal = 5.0, USD_Mgal = 10000, Subtotal_USD = 50000.0) │\n",
      "│ (Origen = \"R3\", Destino = \"A2\", Mgal = 1.0, USD_Mgal = 25000, Subtotal_USD = 25000.0) │\n",
      "│ (Origen = \"R3\", Destino = \"A3\", Mgal = 4.0, USD_Mgal = 12000, Subtotal_USD = 48000.0) │\n",
      "└───────────────────────────────────────────────────────────────────────────────────────┘\n",
      "\n",
      "Excedentes:\n",
      "  R1: 0.0 Mgal  (costo USD/Mgal = 15000)\n",
      "  R2: 0.0 Mgal  (costo USD/Mgal = 22000)\n",
      "  R3: 3.0 Mgal  (costo USD/Mgal = 0)\n",
      "\n",
      "Costo total: $207000.0\n"
     ]
    }
   ],
   "source": [
    "# --- rutas activas ---\n",
    "routes = []\n",
    "for i in ref, j in area\n",
    "    q = value(x[i,j])\n",
    "    if q > 1e-6\n",
    "        push!(routes, (Origen=i, Destino=j,\n",
    "                       Mgal=q,\n",
    "                       USD_Mgal=cost(i,j),\n",
    "                       Subtotal_USD=q*cost(i,j)))\n",
    "    end\n",
    "end\n",
    "\n",
    "pretty_table(routes; formatters=ft_printf(\"%.0f\", 3:5))\n",
    "println(\"\\nExcedentes:\")\n",
    "for i in ref\n",
    "    println(\"  $(i): \", round(value(y[i]),digits=3), \" Mgal  (costo USD/Mgal = \", overflow_cost[i], \")\")\n",
    "end\n",
    "println(\"\\nCosto total: \\$\", objective_value(model_c))\n"
   ]
  }
 ],
 "metadata": {
  "kernelspec": {
   "display_name": "Julia 1.11.6",
   "language": "julia",
   "name": "julia-1.11"
  },
  "language_info": {
   "file_extension": ".jl",
   "mimetype": "application/julia",
   "name": "julia",
   "version": "1.11.6"
  }
 },
 "nbformat": 4,
 "nbformat_minor": 5
}
