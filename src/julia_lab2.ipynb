{
 "cells": [
  {
   "cell_type": "markdown",
   "id": "022965bc",
   "metadata": {},
   "source": [
    "# Laboratorio 2\n",
    "\n",
    "Modelación y Simulación\n",
    "\n",
    "Edwin Ortega 22305 - Esteban Zambrano 22119 - Juan Pablo Solis 22102\n",
    "\n",
    "Ejercicios en donde se necesita usar Julia"
   ]
  },
  {
   "cell_type": "code",
   "execution_count": 1,
   "id": "fe787658",
   "metadata": {},
   "outputs": [],
   "source": [
    "using JuMP\n",
    "using HiGHS\n",
    "using Ipopt\n",
    "using Optimization"
   ]
  }
 ],
 "metadata": {
  "kernelspec": {
   "display_name": "Julia 1.11.6",
   "language": "julia",
   "name": "julia-1.11"
  },
  "language_info": {
   "file_extension": ".jl",
   "mimetype": "application/julia",
   "name": "julia",
   "version": "1.11.6"
  }
 },
 "nbformat": 4,
 "nbformat_minor": 5
}
